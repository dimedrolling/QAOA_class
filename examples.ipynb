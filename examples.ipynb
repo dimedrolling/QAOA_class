{
 "cells": [
  {
   "cell_type": "code",
   "execution_count": 8,
   "metadata": {},
   "outputs": [],
   "source": [
    "from qaoa import *"
   ]
  },
  {
   "cell_type": "code",
   "execution_count": 9,
   "metadata": {},
   "outputs": [
    {
     "name": "stdout",
     "output_type": "stream",
     "text": [
      "Fisher Information Matrix:\n",
      "[[16.     0.   ]\n",
      " [ 0.    29.273]]\n"
     ]
    }
   ],
   "source": [
    "# Example 1: Creating an Ising Hamiltonian and Finding Fisher Information Matrix\n",
    "\n",
    "# Define the number of qubits and connectivity type (\"open\" or \"closed\")\n",
    "n_qubits = 4\n",
    "connectivity = \"closed\"\n",
    "\n",
    "# Create an Ising Hamiltonian\n",
    "ising_hamiltonian = H_zz_Ising(n_qubits, connectivity)\n",
    "\n",
    "depth = 1\n",
    "# Initialize QAOA with a specific depth and the Ising Hamiltonian\n",
    "qaoa = QAOA(depth=depth, H=ising_hamiltonian)\n",
    "\n",
    "# Define a set of parameters\n",
    "angles = [0.5, 0.2]*depth  # Adjust these parameters as needed\n",
    "\n",
    "# Calculate the Fisher Information Matrix\n",
    "qfi_matrix = qaoa.qaoa_qfi_matrix(angles, state_ini=plus_state(n_qubits)) #|+>\n",
    "\n",
    "print(\"Fisher Information Matrix:\")\n",
    "with np.printoptions(precision=3, suppress=True):\n",
    "    print(qfi_matrix)\n"
   ]
  },
  {
   "cell_type": "code",
   "execution_count": 10,
   "metadata": {},
   "outputs": [
    {
     "name": "stdout",
     "output_type": "stream",
     "text": [
      "QAOA Parameters: [0.689 1.263 2.68  2.905]\n",
      "Optimized QAOA Energy: 0.2517524986398121\n"
     ]
    }
   ],
   "source": [
    "# Example 2: Creating a k-SAT Hamiltonian and Optimizing it with QAOA\n",
    "\n",
    "# Define the number of variables (n), clauses (k), and alpha for k-SAT Hamiltonian\n",
    "n = 5\n",
    "k = 3\n",
    "alpha = 2.0\n",
    "\n",
    "# Create a k-SAT Hamiltonian\n",
    "k_sat_hamiltonian = H_sat(n, k, alpha)\n",
    "\n",
    "depth = 2\n",
    "# Initialize QAOA with a specific depth and the k-SAT Hamiltonian\n",
    "qaoa = QAOA(depth=depth, H=k_sat_hamiltonian)\n",
    "\n",
    "\n",
    "# Run the QAOA optimization using the L-BFGS-B method\n",
    "qaoa.run()\n",
    "\n",
    "# Print the optimization results\n",
    "with np.printoptions(precision=3, suppress=True):\n",
    "    print(\"QAOA Parameters:\", qaoa.opt_angles)\n",
    "    print(\"Optimized QAOA Energy:\", qaoa.q_energy)\n"
   ]
  },
  {
   "cell_type": "code",
   "execution_count": 11,
   "metadata": {},
   "outputs": [
    {
     "name": "stdout",
     "output_type": "stream",
     "text": [
      "Max Cut Solution (quantum state):\n",
      " [ 0.   +0.j     0.   +0.j     0.   +0.j    -0.   -0.j     0.   +0.j\n",
      " -0.   -0.j     0.623+0.334j  0.   +0.j     0.   +0.j     0.623+0.334j\n",
      " -0.   -0.j     0.   +0.j    -0.   -0.j     0.   +0.j     0.   +0.j\n",
      "  0.   +0.j   ]\n",
      "Max Cut Value: -3.9999999999999742\n"
     ]
    }
   ],
   "source": [
    "# Example 3: Solving the Max Cut Problem\n",
    "\n",
    "# Define the graph adjacency matrix (replace this with your specific graph)\n",
    "graph = [\n",
    "    [0, 1, 1, 0],\n",
    "    [1, 0, 0, 1],\n",
    "    [1, 0, 0, 1],\n",
    "    [0, 1, 1, 0]\n",
    "]\n",
    "\n",
    "# Number of qubits, which is the same as the number of nodes in the graph will be calculated inside the function\n",
    "# Convert the graph into the corresponding Ising Hamiltonian\n",
    "max_cut_hamiltonian = Graph_to_Hamiltonian(graph)\n",
    "\n",
    "depth = 4\n",
    "# Now you can use your QAOA solver to find the maximum cut\n",
    "qaoa = QAOA(depth=depth, H=max_cut_hamiltonian)\n",
    "qaoa.run()\n",
    "\n",
    "# Extract the results\n",
    "max_cut_solution = qaoa.f_state  # The quantum state\n",
    "max_cut_value = qaoa.q_energy  # The value of the maximum cut\n",
    "\n",
    "# Output the results\n",
    "with np.printoptions(precision=3, suppress=True):\n",
    "    print(\"Max Cut Solution (quantum state):\\n\", max_cut_solution)\n",
    "    print(\"Max Cut Value:\", max_cut_value)"
   ]
  },
  {
   "cell_type": "code",
   "execution_count": 18,
   "metadata": {},
   "outputs": [
    {
     "name": "stdout",
     "output_type": "stream",
     "text": [
      "Average Expectation with Depolarization Noise: -2.9999992875287522\n",
      "Expectation without Noise: -3.9999999999027533\n"
     ]
    }
   ],
   "source": [
    "# Example 4: Calculate the Average Expectation with Noise\n",
    "\n",
    "# Define the number of qubits and connectivity type (\"open\" or \"closed\")\n",
    "n_qubits = 4\n",
    "connectivity = \"closed\"\n",
    "\n",
    "# Define the depth of the QAOA circuit\n",
    "depth = 2\n",
    "\n",
    "# Create an Ising Hamiltonian\n",
    "ising_hamiltonian = H_zz_Ising(n_qubits, connectivity)\n",
    "\n",
    "# Initialize QAOA with a specific depth and the Ising Hamiltonian\n",
    "qaoa = QAOA(depth=depth, H=ising_hamiltonian)\n",
    "\n",
    "\n",
    "# Find optimum angles\n",
    "qaoa = QAOA(depth=depth, H=ising_hamiltonian)\n",
    "qaoa.run()\n",
    "angles = qaoa.opt_angles  # Adjust these parameters as needed\n",
    "\n",
    "# Create Kraus operators and probabilities for the depolarization channel\n",
    "p_depolarization = 0.001  # Adjust the depolarization probability\n",
    "depolarization_kraus_ops, depolarization_probabilities = create_depolarization_kraus(p_depolarization)\n",
    "\n",
    "\n",
    "# Apply the QAOA ansatz with depolarization noise\n",
    "state_with_noise = qaoa.expectation_noise(angles, noise_prob=depolarization_probabilities, kraus_ops=depolarization_kraus_ops,num_samples=100)\n",
    "\n",
    "# Print the state vector with depolarization noise\n",
    "print(\"Average Expectation with Depolarization Noise:\",state_with_noise)\n",
    "print(\"Expectation without Noise:\", qaoa.expectation(angles))"
   ]
  }
 ],
 "metadata": {
  "kernelspec": {
   "display_name": "Python 3",
   "language": "python",
   "name": "python3"
  },
  "language_info": {
   "codemirror_mode": {
    "name": "ipython",
    "version": 3
   },
   "file_extension": ".py",
   "mimetype": "text/x-python",
   "name": "python",
   "nbconvert_exporter": "python",
   "pygments_lexer": "ipython3",
   "version": "3.10.2"
  }
 },
 "nbformat": 4,
 "nbformat_minor": 2
}
