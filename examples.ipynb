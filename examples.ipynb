{
 "cells": [
  {
   "cell_type": "code",
   "execution_count": 14,
   "metadata": {},
   "outputs": [],
   "source": [
    "from qaoa import *\n",
    "import matplotlib.pyplot as plt\n",
    "# Set a random seed for reproducibility\n",
    "np.random.seed(42)"
   ]
  },
  {
   "cell_type": "code",
   "execution_count": 15,
   "metadata": {},
   "outputs": [
    {
     "name": "stdout",
     "output_type": "stream",
     "text": [
      "Fisher Information Matrix:\n",
      "[[16.     0.   ]\n",
      " [ 0.    29.273]]\n"
     ]
    }
   ],
   "source": [
    "# Example 1: Creating an Ising Hamiltonian and Finding Fisher Information Matrix\n",
    "\n",
    "# Define the number of qubits and connectivity type (\"open\" or \"closed\")\n",
    "n_qubits = 4\n",
    "connectivity = \"closed\"\n",
    "\n",
    "# Create an Ising Hamiltonian\n",
    "ising_hamiltonian = H_zz_Ising(n_qubits, connectivity)\n",
    "\n",
    "depth = 1\n",
    "# Initialize QAOA with a specific depth and the Ising Hamiltonian\n",
    "qaoa = QAOA(depth=depth, H=ising_hamiltonian)\n",
    "\n",
    "# Define a set of parameters\n",
    "angles = [0.5, 0.2]*depth  # Adjust these parameters as needed\n",
    "\n",
    "# Calculate the Fisher Information Matrix\n",
    "qfi_matrix = qaoa.qaoa_qfi_matrix(angles, state_ini=plus_state(n_qubits)) #|+>\n",
    "\n",
    "print(\"Fisher Information Matrix:\")\n",
    "with np.printoptions(precision=3, suppress=True):\n",
    "    print(qfi_matrix)\n"
   ]
  },
  {
   "cell_type": "code",
   "execution_count": 16,
   "metadata": {},
   "outputs": [
    {
     "name": "stdout",
     "output_type": "stream",
     "text": [
      "QAOA Parameters: [1.261 3.682 1.142 1.765]\n",
      "Optimized QAOA Energy: 0.5039655121261498\n"
     ]
    }
   ],
   "source": [
    "# Example 2: Creating a k-SAT Hamiltonian and Optimizing it with QAOA\n",
    "\n",
    "# Define the number of variables (n), clauses (k), and alpha for k-SAT Hamiltonian\n",
    "n = 5\n",
    "k = 3\n",
    "alpha = 2.0\n",
    "\n",
    "# Create a k-SAT Hamiltonian\n",
    "k_sat_hamiltonian = H_sat(n, k, alpha)\n",
    "\n",
    "depth = 2\n",
    "# Initialize QAOA with a specific depth and the k-SAT Hamiltonian\n",
    "qaoa = QAOA(depth=depth, H=k_sat_hamiltonian)\n",
    "\n",
    "\n",
    "# Run the QAOA optimization using the L-BFGS-B method\n",
    "qaoa.run()\n",
    "\n",
    "# Print the optimization results\n",
    "with np.printoptions(precision=3, suppress=True):\n",
    "    print(\"QAOA Parameters:\", qaoa.opt_angles)\n",
    "    print(\"Optimized QAOA Energy:\", qaoa.q_energy)\n"
   ]
  },
  {
   "cell_type": "code",
   "execution_count": 17,
   "metadata": {},
   "outputs": [
    {
     "name": "stdout",
     "output_type": "stream",
     "text": [
      "Max Cut Solution (quantum state):\n",
      " [ 0.   +0.j    -0.   +0.j    -0.   +0.j     0.   -0.j    -0.   +0.j\n",
      "  0.   -0.j    -0.507+0.493j -0.   +0.j    -0.   +0.j    -0.507+0.493j\n",
      "  0.   -0.j    -0.   +0.j     0.   -0.j    -0.   +0.j    -0.   +0.j\n",
      "  0.   +0.j   ]\n",
      "Max Cut Value: -3.9999999999981215\n"
     ]
    }
   ],
   "source": [
    "# Example 3: Solving the Max Cut Problem\n",
    "\n",
    "# Define the graph adjacency matrix (replace this with your specific graph)\n",
    "graph = [\n",
    "    [0, 1, 1, 0],\n",
    "    [1, 0, 0, 1],\n",
    "    [1, 0, 0, 1],\n",
    "    [0, 1, 1, 0]\n",
    "]\n",
    "\n",
    "# Number of qubits, which is the same as the number of nodes in the graph will be calculated inside the function\n",
    "# Convert the graph into the corresponding Ising Hamiltonian\n",
    "max_cut_hamiltonian = Graph_to_Hamiltonian(graph)\n",
    "\n",
    "depth = 4\n",
    "# Now you can use your QAOA solver to find the maximum cut\n",
    "qaoa = QAOA(depth=depth, H=max_cut_hamiltonian)\n",
    "qaoa.run()\n",
    "\n",
    "# Extract the results\n",
    "max_cut_solution = qaoa.f_state  # The quantum state\n",
    "max_cut_value = qaoa.q_energy  # The value of the maximum cut\n",
    "\n",
    "# Output the results\n",
    "with np.printoptions(precision=3, suppress=True):\n",
    "    print(\"Max Cut Solution (quantum state):\\n\", max_cut_solution)\n",
    "    print(\"Max Cut Value:\", max_cut_value)"
   ]
  },
  {
   "cell_type": "code",
   "execution_count": 18,
   "metadata": {},
   "outputs": [
    {
     "name": "stdout",
     "output_type": "stream",
     "text": [
      "Average Expectation with Depolarization Noise: 0.03352151037420148\n",
      "Expectation without Noise: 2.942091015256665e-15\n"
     ]
    }
   ],
   "source": [
    "# Example 4: Calculate the Average Expectation with Noise\n",
    "\n",
    "# Define the number of qubits and connectivity type (\"open\" or \"closed\")\n",
    "n_qubits = 4\n",
    "connectivity = \"closed\"\n",
    "\n",
    "# Define the depth of the QAOA circuit\n",
    "depth = 2\n",
    "\n",
    "# Create an Ising Hamiltonian\n",
    "ising_hamiltonian = H_zz_Ising(n_qubits, connectivity)\n",
    "\n",
    "# Initialize QAOA with a specific depth and the Ising Hamiltonian\n",
    "qaoa = QAOA(depth=depth, H=ising_hamiltonian)\n",
    "\n",
    "\n",
    "# Find optimum angles\n",
    "qaoa = QAOA(depth=depth, H=ising_hamiltonian)\n",
    "qaoa.run()\n",
    "angles = qaoa.opt_angles  # Adjust these parameters as needed\n",
    "\n",
    "# Create Kraus operators and probabilities for the depolarization channel\n",
    "p_depolarization = 0.01  # Adjust the depolarization probability\n",
    "depolarization_kraus_ops, depolarization_probabilities = create_depolarization_kraus(p_depolarization)\n",
    "\n",
    "\n",
    "# Apply the QAOA ansatz with depolarization noise\n",
    "state_with_noise = qaoa.expectation_noise(angles, noise_prob=depolarization_probabilities, kraus_ops=depolarization_kraus_ops,num_samples=100)\n",
    "\n",
    "# Print the state vector with depolarization noise\n",
    "print(\"Average Expectation with Depolarization Noise:\",state_with_noise)\n",
    "print(\"Expectation without Noise:\", qaoa.expectation(angles))"
   ]
  },
  {
   "cell_type": "code",
   "execution_count": 19,
   "metadata": {},
   "outputs": [
    {
     "data": {
      "image/png": "[encoded data removed]",
      "text/plain": [
       "<Figure size 720x432 with 1 Axes>"
      ]
     },
     "metadata": {
      "needs_background": "light"
     },
     "output_type": "display_data"
    }
   ],
   "source": [
    "# Example 5: Compare optimization strategies\n",
    "\n",
    "# Define the number of variables (n), clauses (k), and alpha for k-SAT Hamiltonian\n",
    "n = 6\n",
    "k = 2\n",
    "alpha = 1.0\n",
    "\n",
    "# Create a k-SAT Hamiltonian\n",
    "k_sat_hamiltonian = H_sat(n, k, alpha)\n",
    "\n",
    "depth = 2\n",
    "# Initialize QAOA with a specific depth and the k-SAT Hamiltonian\n",
    "qaoa = QAOA(depth=depth, H=k_sat_hamiltonian)\n",
    "\n",
    "# Run optimization using the regular L-BFGS-B method\n",
    "opt_angles_reg, q_energy_reg, cost_values_reg = qaoa.run_with_tracking()\n",
    "\n",
    "# Run optimization using the natural gradient strategy\n",
    "opt_angles_natgrad, q_energy_natgrad, cost_values_natgrad = qaoa.run_QFI_with_tracking()\n",
    "\n",
    "# Plot the cost function vs. number of evaluations\n",
    "plt.figure(figsize=(10, 6))\n",
    "plt.plot(np.arange(len(cost_values_reg)), cost_values_reg, label='Regular L-BFGS-B')\n",
    "plt.plot(np.arange(len(cost_values_natgrad)), cost_values_natgrad, label='Natural Gradient')\n",
    "plt.xlabel('Number of Evaluations')\n",
    "plt.ylabel('Cost Function')\n",
    "plt.title('Cost Function vs. Number of Evaluations')\n",
    "plt.legend()\n",
    "plt.grid(True)\n",
    "plt.show()"
   ]
  }
 ],
 "metadata": {
  "kernelspec": {
   "display_name": "Python 3",
   "language": "python",
   "name": "python3"
  },
  "language_info": {
   "codemirror_mode": {
    "name": "ipython",
    "version": 3
   },
   "file_extension": ".py",
   "mimetype": "text/x-python",
   "name": "python",
   "nbconvert_exporter": "python",
   "pygments_lexer": "ipython3",
   "version": "3.10.2"
  }
 },
 "nbformat": 4,
 "nbformat_minor": 2
}
