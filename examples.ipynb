{
 "cells": [
  {
   "cell_type": "code",
   "execution_count": 1,
   "metadata": {},
   "outputs": [],
   "source": [
    "from qaoa import *\n",
    "\n",
    "\n"
   ]
  },
  {
   "cell_type": "code",
   "execution_count": 2,
   "metadata": {},
   "outputs": [
    {
     "name": "stdout",
     "output_type": "stream",
     "text": [
      "Fisher Information Matrix:\n",
      "[[16.     0.   ]\n",
      " [ 0.    29.273]]\n"
     ]
    }
   ],
   "source": [
    "# Example 1: Creating an Ising Hamiltonian and Finding Fisher Information Matrix\n",
    "# Set a random seed for reproducibility\n",
    "np.random.seed(42)\n",
    "\n",
    "# Define the number of qubits and connectivity type (\"open\" or \"closed\")\n",
    "n_qubits = 4\n",
    "connectivity = \"closed\"\n",
    "\n",
    "# Create an Ising Hamiltonian\n",
    "ising_hamiltonian = H_zz_Ising(n_qubits, connectivity)\n",
    "\n",
    "depth = 1\n",
    "# Initialize QAOA with a specific depth and the Ising Hamiltonian\n",
    "qaoa = QAOA(depth=depth, H=ising_hamiltonian)\n",
    "\n",
    "# Define a set of parameters\n",
    "angles = [0.5, 0.2]*depth  # Adjust these parameters as needed\n",
    "\n",
    "# Calculate the Fisher Information Matrix\n",
    "qfi_matrix = qaoa.qaoa_qfi_matrix(angles, state_ini=plus_state(n_qubits)) #|+>\n",
    "\n",
    "print(\"Fisher Information Matrix:\")\n",
    "with np.printoptions(precision=3, suppress=True):\n",
    "    print(qfi_matrix)\n"
   ]
  },
  {
   "cell_type": "code",
   "execution_count": 3,
   "metadata": {},
   "outputs": [
    {
     "name": "stdout",
     "output_type": "stream",
     "text": [
      "QAOA Parameters: [1.261 3.682 1.142 1.765]\n",
      "Optimized QAOA Energy: 0.5039655121265381\n"
     ]
    }
   ],
   "source": [
    "# Example 2: Creating a max k-SAT Hamiltonian and Optimizing it with QAOA\n",
    "# Set a random seed for reproducibility\n",
    "np.random.seed(42)\n",
    "# Define the number of variables (n), clauses (k), and alpha for k-SAT Hamiltonian\n",
    "n = 5\n",
    "k = 3\n",
    "alpha = 2.0\n",
    "\n",
    "# Create a k-SAT Hamiltonian\n",
    "k_sat_hamiltonian = H_sat(n, k, alpha)\n",
    "\n",
    "depth = 2\n",
    "# Initialize QAOA with a specific depth and the k-SAT Hamiltonian\n",
    "qaoa = QAOA(depth=depth, H=k_sat_hamiltonian)\n",
    "\n",
    "\n",
    "# Run the QAOA optimization using the L-BFGS-B method\n",
    "qaoa.run()\n",
    "\n",
    "# Print the optimization results\n",
    "with np.printoptions(precision=3, suppress=True):\n",
    "    print(\"QAOA Parameters:\", qaoa.opt_angles)\n",
    "    print(\"Optimized QAOA Energy:\", qaoa.q_energy)\n"
   ]
  },
  {
   "cell_type": "code",
   "execution_count": 4,
   "metadata": {},
   "outputs": [
    {
     "name": "stdout",
     "output_type": "stream",
     "text": [
      "Max Cut Solution (quantum state):\n",
      " [-0.   -0.j     0.   +0.j     0.   +0.j     0.   -0.j     0.   +0.j\n",
      "  0.   -0.j     0.176-0.685j  0.   +0.j     0.   +0.j     0.176-0.685j\n",
      "  0.   -0.j     0.   +0.j     0.   -0.j     0.   +0.j     0.   +0.j\n",
      " -0.   -0.j   ]\n",
      "Max Cut Value: -3.9999999999998725\n"
     ]
    }
   ],
   "source": [
    "# Example 3: Solving the Max Cut Problem\n",
    "# Set a random seed for reproducibility\n",
    "np.random.seed(42)\n",
    "# Define the graph adjacency matrix (replace this with your specific graph)\n",
    "graph = [\n",
    "    [0, 1, 1, 0],\n",
    "    [1, 0, 0, 1],\n",
    "    [1, 0, 0, 1],\n",
    "    [0, 1, 1, 0]\n",
    "]\n",
    "\n",
    "# Number of qubits, which is the same as the number of nodes in the graph will be calculated inside the function\n",
    "# Convert the graph into the corresponding Ising Hamiltonian\n",
    "max_cut_hamiltonian = Graph_to_Hamiltonian(graph)\n",
    "\n",
    "depth = 4\n",
    "# Now you can use your QAOA solver to find the maximum cut\n",
    "qaoa = QAOA(depth=depth, H=max_cut_hamiltonian)\n",
    "qaoa.run()\n",
    "\n",
    "# Extract the results\n",
    "max_cut_solution = qaoa.f_state  # The quantum state\n",
    "max_cut_value = qaoa.q_energy  # The value of the maximum cut\n",
    "\n",
    "# Output the results\n",
    "with np.printoptions(precision=3, suppress=True):\n",
    "    print(\"Max Cut Solution (quantum state):\\n\", max_cut_solution)\n",
    "    print(\"Max Cut Value:\", max_cut_value)"
   ]
  },
  {
   "cell_type": "code",
   "execution_count": 5,
   "metadata": {},
   "outputs": [
    {
     "name": "stdout",
     "output_type": "stream",
     "text": [
      "Max k-SAT solution (quantum state):\n",
      " [ 0.475+0.094j -0.069-0.037j -0.01 -0.082j -0.031+0.036j  0.475+0.094j\n",
      " -0.069-0.037j -0.01 -0.082j -0.031+0.036j -0.031+0.036j -0.069-0.037j\n",
      " -0.01 -0.082j  0.475+0.094j -0.031+0.036j -0.069-0.037j -0.01 -0.082j\n",
      "  0.475+0.094j]\n",
      "Max k-SAT energy: 0.08777282\n",
      "Time to execute: 5.271177499998885\n",
      "Minimum Candidates:\n",
      " Angles: [ 72.   10.8  90.  244.8]°, Value: 0.3070797622203827\n",
      " Angles: [108.  273.6 212.4 327.6]°, Value: 0.14903999865055084\n",
      " Angles: [ 79.2 126.  324.  154.8]°, Value: 0.11032555997371674\n",
      " Angles: [ 75.6 201.6 158.4 205.2]°, Value: 0.08777281641960144\n"
     ]
    }
   ],
   "source": [
    "# Example 4: Solving the Max k-SAT with PROTES method \n",
    "# Set a random seed for reproducibility\n",
    "np.random.seed(42)\n",
    "\n",
    "# Define the number of variables (n), clauses (k), and alpha for k-SAT Hamiltonian\n",
    "n = 4\n",
    "k = 2\n",
    "alpha = 1.0\n",
    "\n",
    "# Create a k-SAT Hamiltonian\n",
    "k_sat_hamiltonian = H_sat(n, k, alpha)\n",
    "\n",
    "depth = 2\n",
    "# Initialize QAOA with a specific depth and the k-SAT Hamiltonian\n",
    "qaoa = QAOA(depth=depth, H=k_sat_hamiltonian)\n",
    "#run the PROTES method \n",
    "qaoa.run_PROTES()\n",
    "\n",
    "# Output the results\n",
    "with np.printoptions(precision=3, suppress=True):\n",
    "    print(\"Max k-SAT solution (quantum state):\\n\",  qaoa.f_state)\n",
    "    print(\"Max k-SAT energy:\", qaoa.q_energy)\n",
    "\n",
    "# for the PROTES only method there is a special value protes_log stored in qaoa\n",
    "# Print additional information from PROTES log\n",
    "protes_log = qaoa.protes_log\n",
    "print(\"Time to execute:\", protes_log['t'])\n",
    "print(\"Minimum Candidates:\")\n",
    "for i, (i_opt, y_opt) in enumerate(zip(protes_log['i_opt_list'], protes_log['y_opt_list']), 1):\n",
    "    angles = 360 * i_opt/100  # if you change linspace params inside protes then you have to change it here for the right plot\n",
    "    print(f\" Angles: {angles}°, Value: {y_opt}\")"
   ]
  },
  {
   "cell_type": "code",
   "execution_count": 17,
   "metadata": {},
   "outputs": [
    {
     "name": "stdout",
     "output_type": "stream",
     "text": [
      "Average Expectation with Depolarization Noise:-0.75\n",
      "Expectation without Noise:-2.00\n",
      "Overlap between solution and state with noise:0.53\n",
      "State with noise: [-0.125-0.j     0.   -0.125j  0.   -0.125j  0.125-0.25j   0.   -0.125j\n",
      " -0.125-0.5j    0.125-0.25j   0.   -0.125j  0.   -0.125j  0.125-0.25j\n",
      " -0.125-0.5j    0.   -0.125j  0.125-0.25j   0.   -0.125j  0.   -0.125j\n",
      " -0.125-0.j   ]\n"
     ]
    }
   ],
   "source": [
    "# Example 5: Calculate the Average Expectation with Noise\n",
    "# Set a random seed for reproducibility\n",
    "np.random.seed(42)\n",
    "# Define the number of qubits and connectivity type (\"open\" or \"closed\")\n",
    "n_qubits = 4\n",
    "connectivity = \"closed\"\n",
    "\n",
    "# Define the depth of the QAOA circuit\n",
    "depth = 2\n",
    "\n",
    "# Create an Ising Hamiltonian\n",
    "ising_hamiltonian = H_zz_Ising(n_qubits, connectivity)\n",
    "\n",
    "# Initialize QAOA with a specific depth and the Ising Hamiltonian\n",
    "qaoa = QAOA(depth=depth, H=ising_hamiltonian)\n",
    "\n",
    "\n",
    "# Find optimum angles\n",
    "qaoa = QAOA(depth=depth, H=ising_hamiltonian)\n",
    "qaoa.run()\n",
    "angles = qaoa.opt_angles  # Adjust these parameters as needed\n",
    "noiseless_energy = qaoa.q_energy\n",
    "\n",
    "# Create Kraus operators and probabilities for the depolarization channel\n",
    "p_depolarization = 0.01  # Adjust the depolarization probability\n",
    "depolarization_kraus_ops, depolarization_probabilities = create_depolarization_kraus(p_depolarization)\n",
    "\n",
    "\n",
    "# Apply the QAOA ansatz with depolarization noise\n",
    "energy_with_noise = qaoa.expectation_noise(angles, noise_prob=depolarization_probabilities, kraus_ops=depolarization_kraus_ops,num_samples=100)\n",
    "\n",
    "# Print the state vector with depolarization noise\n",
    "# Output the results\n",
    "with np.printoptions(precision=3, suppress=True):\n",
    "    print(\"Average Expectation with Depolarization Noise:{:.2f}\".format(energy_with_noise))\n",
    "    print(\"Expectation without Noise:{:.2f}\".format(noiseless_energy))\n",
    "    print(\"Overlap between solution and state with noise:{:.2f}\".format(qaoa.olap))\n",
    "    print(\"State with noise:\", qaoa.f_state)"
   ]
  }
 ],
 "metadata": {
  "kernelspec": {
   "display_name": "Python 3",
   "language": "python",
   "name": "python3"
  },
  "language_info": {
   "codemirror_mode": {
    "name": "ipython",
    "version": 3
   },
   "file_extension": ".py",
   "mimetype": "text/x-python",
   "name": "python",
   "nbconvert_exporter": "python",
   "pygments_lexer": "ipython3",
   "version": "3.10.2"
  }
 },
 "nbformat": 4,
 "nbformat_minor": 2
}
