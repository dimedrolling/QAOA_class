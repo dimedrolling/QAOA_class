{
 "cells": [
  {
   "cell_type": "code",
   "execution_count": 59,
   "metadata": {},
   "outputs": [],
   "source": [
    "from qaoa import *"
   ]
  },
  {
   "cell_type": "code",
   "execution_count": 60,
   "metadata": {},
   "outputs": [
    {
     "name": "stdout",
     "output_type": "stream",
     "text": [
      "Fisher Information Matrix:\n",
      "[[1.60000000e+01 5.18565780e-16]\n",
      " [5.18565780e-16 2.92729239e+01]]\n"
     ]
    }
   ],
   "source": [
    "# Example 1: Creating an Ising Hamiltonian and Finding Fisher Information Matrix\n",
    "\n",
    "# Define the number of qubits and connectivity type (\"open\" or \"closed\")\n",
    "n_qubits = 4\n",
    "connectivity = \"closed\"\n",
    "\n",
    "# Create an Ising Hamiltonian\n",
    "ising_hamiltonian = H_zz_Ising(n_qubits, connectivity)\n",
    "\n",
    "\n",
    "# Initialize QAOA with a specific depth and the Ising Hamiltonian\n",
    "qaoa = QAOA(depth=1, H=ising_hamiltonian)\n",
    "\n",
    "# Define a set of parameters\n",
    "angles = [0.5, 0.2]  # Adjust these parameters as needed\n",
    "\n",
    "# Calculate the Fisher Information Matrix\n",
    "qfi_matrix = qaoa.qaoa_qfi_matrix(angles, state_ini=plus_state(n_qubits)) #|+>\n",
    "\n",
    "print(\"Fisher Information Matrix:\")\n",
    "print(qfi_matrix)\n"
   ]
  },
  {
   "cell_type": "code",
   "execution_count": 61,
   "metadata": {},
   "outputs": [
    {
     "name": "stdout",
     "output_type": "stream",
     "text": [
      "QAOA Parameters: [5.38888091 5.57000923 0.4225245  3.14159265]\n",
      "Optimized QAOA Energy: 0.3135798339235524\n"
     ]
    }
   ],
   "source": [
    "# Example 2: Creating a k-SAT Hamiltonian and Optimizing it with QAOA\n",
    "\n",
    "# Define the number of variables (n), clauses (k), and alpha for k-SAT Hamiltonian\n",
    "n = 5\n",
    "k = 3\n",
    "alpha = 2.0\n",
    "\n",
    "# Create a k-SAT Hamiltonian\n",
    "k_sat_hamiltonian = H_sat(n, k, alpha)\n",
    "\n",
    "# Initialize QAOA with a specific depth and the k-SAT Hamiltonian\n",
    "qaoa = QAOA(depth=2, H=k_sat_hamiltonian)\n",
    "\n",
    "\n",
    "# Run the QAOA optimization using the L-BFGS-B method\n",
    "qaoa.run_RI()\n",
    "\n",
    "# Print the optimization results\n",
    "print(\"QAOA Parameters:\", qaoa.opt_angles)\n",
    "print(\"Optimized QAOA Energy:\", qaoa.q_energy)\n"
   ]
  },
  {
   "cell_type": "code",
   "execution_count": 63,
   "metadata": {},
   "outputs": [
    {
     "name": "stdout",
     "output_type": "stream",
     "text": [
      "Max Cut Solution (quantum state):\n",
      " [4.89948797e-14-2.03163215e-12j 7.18245553e-08+6.32095511e-07j\n",
      " 7.18245554e-08+6.32095511e-07j 8.35095282e-07+2.77767066e-07j\n",
      " 7.18245553e-08+6.32095511e-07j 8.35095282e-07+2.77767066e-07j\n",
      " 1.22178929e-01-6.96471327e-01j 7.18245552e-08+6.32095511e-07j\n",
      " 7.18245552e-08+6.32095511e-07j 1.22178929e-01-6.96471327e-01j\n",
      " 8.35095282e-07+2.77767066e-07j 7.18245553e-08+6.32095511e-07j\n",
      " 8.35095282e-07+2.77767066e-07j 7.18245554e-08+6.32095511e-07j\n",
      " 7.18245553e-08+6.32095511e-07j 4.89948797e-14-2.03163215e-12j]\n",
      "Max Cut Value: -3.9999999999746545\n"
     ]
    }
   ],
   "source": [
    "# Example 3: Solving the Max Cut Problem\n",
    "\n",
    "# Define the graph adjacency matrix (replace this with your specific graph)\n",
    "graph = [\n",
    "    [0, 1, 1, 0],\n",
    "    [1, 0, 0, 1],\n",
    "    [1, 0, 0, 1],\n",
    "    [0, 1, 1, 0]\n",
    "]\n",
    "\n",
    "# Number of qubits, which is the same as the number of nodes in the graph\n",
    "num_qubits = len(graph)\n",
    "\n",
    "# Convert the graph into the corresponding Ising Hamiltonian\n",
    "max_cut_hamiltonian = Graph_to_Hamiltonian(graph, num_qubits)\n",
    "\n",
    "# Now you can use your QAOA solver to find the maximum cut\n",
    "qaoa = QAOA(depth=4, H=max_cut_hamiltonian)\n",
    "qaoa.run_RI()\n",
    "\n",
    "# Extract the results\n",
    "max_cut_solution = qaoa.f_state  # The quantum state\n",
    "max_cut_value = qaoa.q_energy  # The value of the maximum cut\n",
    "\n",
    "# Output the results\n",
    "print(\"Max Cut Solution (quantum state):\\n\", max_cut_solution)\n",
    "print(\"Max Cut Value:\", max_cut_value)"
   ]
  }
 ],
 "metadata": {
  "kernelspec": {
   "display_name": "Python 3",
   "language": "python",
   "name": "python3"
  },
  "language_info": {
   "codemirror_mode": {
    "name": "ipython",
    "version": 3
   },
   "file_extension": ".py",
   "mimetype": "text/x-python",
   "name": "python",
   "nbconvert_exporter": "python",
   "pygments_lexer": "ipython3",
   "version": "3.10.2"
  }
 },
 "nbformat": 4,
 "nbformat_minor": 2
}
