{
 "cells": [
  {
   "cell_type": "code",
   "execution_count": 1,
   "metadata": {},
   "outputs": [],
   "source": [
    "import numpy as np\n",
    "from qaoa import *"
   ]
  },
  {
   "cell_type": "code",
   "execution_count": 2,
   "metadata": {},
   "outputs": [
    {
     "name": "stdout",
     "output_type": "stream",
     "text": [
      "Fisher Information Matrix:\n",
      "[[-1334.16631201+0.j -1462.43177381+0.j]\n",
      " [-1462.43177381+0.j  -840.62976137+0.j]]\n"
     ]
    }
   ],
   "source": [
    "# Example 1: Creating an Ising Hamiltonian and Finding Fisher Information Matrix\n",
    "\n",
    "# Define the number of qubits and connectivity type (\"open\" or \"closed\")\n",
    "n_qubits = 4\n",
    "connectivity = \"closed\"\n",
    "\n",
    "# Create an Ising Hamiltonian\n",
    "ising_hamiltonian = H_zz_Ising(n_qubits, connectivity)\n",
    "\n",
    "\n",
    "# Initialize QAOA with a specific depth and the Ising Hamiltonian\n",
    "qaoa = QAOA(depth=1, H=ising_hamiltonian)\n",
    "\n",
    "# Define a set of parameters\n",
    "angles = [0.5, 0.2]  # Adjust these parameters as needed\n",
    "\n",
    "# Calculate the Fisher Information Matrix\n",
    "qfi_matrix = qaoa.qaoa_qfi_matrix(angles, state_ini=qaoa.qaoa_ansatz(angles))\n",
    "# d = 2**n_qubits\n",
    "# qfi_matrix = qaoa.qaoa_qfi_matrix(angles, state_ini=array([1/sqrt(d)]*d)) # |+>\n",
    "\n",
    "print(\"Fisher Information Matrix:\")\n",
    "print(qfi_matrix)\n"
   ]
  },
  {
   "cell_type": "code",
   "execution_count": 3,
   "metadata": {},
   "outputs": [
    {
     "name": "stdout",
     "output_type": "stream",
     "text": [
      "QAOA Parameters: [1.73067818 2.19078297 1.69709486 0.85252308]\n",
      "Optimized QAOA Energy: 0.9425577440841494\n"
     ]
    }
   ],
   "source": [
    "# Example 2: Creating a k-SAT Hamiltonian and Optimizing it with QAOA\n",
    "\n",
    "# Define the number of variables (n), clauses (k), and alpha for k-SAT Hamiltonian\n",
    "n = 5\n",
    "k = 3\n",
    "alpha = 2.0\n",
    "\n",
    "# Create a k-SAT Hamiltonian\n",
    "k_sat_hamiltonian = H_sat(n, k, alpha)\n",
    "\n",
    "# Initialize QAOA with a specific depth and the k-SAT Hamiltonian\n",
    "qaoa = QAOA(depth=2, H=k_sat_hamiltonian)\n",
    "\n",
    "# Run the QAOA optimization using the L-BFGS-B method\n",
    "qaoa.run_RI()\n",
    "\n",
    "# Print the optimization results\n",
    "print(\"QAOA Parameters:\", qaoa.opt_angles)\n",
    "print(\"Optimized QAOA Energy:\", qaoa.q_energy)\n"
   ]
  },
  {
   "cell_type": "code",
   "execution_count": 8,
   "metadata": {},
   "outputs": [
    {
     "name": "stdout",
     "output_type": "stream",
     "text": [
      "Max Cut Solution (quantum state):\n",
      " [[ 7.66352599e-13+1.07829123e-12j]\n",
      " [-3.60811778e-07-6.46372594e-07j]\n",
      " [-3.60811778e-07-6.46372594e-07j]\n",
      " [ 8.66658671e-07+6.38024338e-07j]\n",
      " [-3.60811778e-07-6.46372594e-07j]\n",
      " [ 8.66658671e-07+6.38024338e-07j]\n",
      " [-5.09173225e-01+4.90655304e-01j]\n",
      " [-3.60811778e-07-6.46372594e-07j]\n",
      " [-3.60811778e-07-6.46372594e-07j]\n",
      " [-5.09173225e-01+4.90655304e-01j]\n",
      " [ 8.66658671e-07+6.38024338e-07j]\n",
      " [-3.60811778e-07-6.46372594e-07j]\n",
      " [ 8.66658671e-07+6.38024338e-07j]\n",
      " [-3.60811778e-07-6.46372594e-07j]\n",
      " [-3.60811778e-07-6.46372594e-07j]\n",
      " [ 7.66352599e-13+1.07829123e-12j]]\n",
      "Max Cut Value: -3.999999999963932\n"
     ]
    }
   ],
   "source": [
    "# Example 3: Solving the Max Cut Problem\n",
    "\n",
    "# Define the graph adjacency matrix (replace this with your specific graph)\n",
    "graph = [\n",
    "    [0, 1, 1, 0],\n",
    "    [1, 0, 0, 1],\n",
    "    [1, 0, 0, 1],\n",
    "    [0, 1, 1, 0]\n",
    "]\n",
    "\n",
    "# Number of qubits, which is the same as the number of nodes in the graph\n",
    "num_qubits = len(graph)\n",
    "\n",
    "# Convert the graph into the corresponding Ising Hamiltonian\n",
    "max_cut_hamiltonian = Graph_to_Hamiltonian(graph, num_qubits)\n",
    "\n",
    "# Now you can use your QAOA solver to find the maximum cut\n",
    "qaoa = QAOA(depth=4, H=max_cut_hamiltonian)\n",
    "qaoa.run_RI()\n",
    "\n",
    "# Extract the results\n",
    "max_cut_solution = qaoa.f_state  # The quantum state\n",
    "max_cut_value = qaoa.q_energy  # The value of the maximum cut\n",
    "\n",
    "# Output the results\n",
    "print(\"Max Cut Solution (quantum state):\\n\", max_cut_solution)\n",
    "print(\"Max Cut Value:\", max_cut_value)"
   ]
  }
 ],
 "metadata": {
  "kernelspec": {
   "display_name": "Python 3",
   "language": "python",
   "name": "python3"
  },
  "language_info": {
   "codemirror_mode": {
    "name": "ipython",
    "version": 3
   },
   "file_extension": ".py",
   "mimetype": "text/x-python",
   "name": "python",
   "nbconvert_exporter": "python",
   "pygments_lexer": "ipython3",
   "version": "3.10.2"
  }
 },
 "nbformat": 4,
 "nbformat_minor": 2
}
